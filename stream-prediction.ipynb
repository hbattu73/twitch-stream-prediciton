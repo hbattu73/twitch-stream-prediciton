{
 "cells": [
  {
   "cell_type": "code",
   "execution_count": 1,
   "metadata": {},
   "outputs": [],
   "source": [
    "import numpy as np\n",
    "from collections import defaultdict\n",
    "import random\n",
    "from sklearn import linear_model\n",
    "from sklearn.metrics import accuracy_score\n",
    "import gzip\n",
    "import csv\n",
    "import matplotlib.pyplot as plt\n",
    "import numpy as np\n",
    "from random import sample\n",
    "\n",
    "# strings mapping keys to values in dataset dict\n",
    "# keys don't seem to make semantic sense so I added these\n",
    "user_id = '1'\n",
    "stream_id = '33842865744'\n",
    "streamer_username = 'mithrain'\n",
    "time_start = '154'\n",
    "time_stop = '156'"
   ]
  },
  {
   "cell_type": "markdown",
   "metadata": {},
   "source": [
    "# Dataset:"
   ]
  },
  {
   "cell_type": "code",
   "execution_count": 2,
   "metadata": {},
   "outputs": [],
   "source": [
    "def readCSV(path):\n",
    "    f = open(path, 'rt')\n",
    "    c = csv.reader(f)\n",
    "    header = next(c)\n",
    "    for l in c:\n",
    "        d = dict(zip(header,l))\n",
    "        yield d"
   ]
  },
  {
   "cell_type": "code",
   "execution_count": 3,
   "metadata": {},
   "outputs": [],
   "source": [
    "# read in twitch data \n",
    "full_dataset = list(readCSV(\"100k_a.csv\"))"
   ]
  },
  {
   "cell_type": "code",
   "execution_count": 4,
   "metadata": {},
   "outputs": [
    {
     "name": "stdout",
     "output_type": "stream",
     "text": [
      "3051732\n",
      "{'1': '1', '33842865744': '33846768288', 'mithrain': 'alptv', '154': '166', '156': '169'}\n"
     ]
    }
   ],
   "source": [
    "print(len(full_dataset))\n",
    "print(full_dataset[0])"
   ]
  },
  {
   "cell_type": "code",
   "execution_count": 5,
   "metadata": {},
   "outputs": [
    {
     "name": "stdout",
     "output_type": "stream",
     "text": [
      "Max time: 6148\n",
      "Min time: 0\n"
     ]
    }
   ],
   "source": [
    "# dicts mapping user to streamer and vise versa \n",
    "user_to_streamer = defaultdict(list)\n",
    "streamer_to_user = defaultdict(list)\n",
    "\n",
    "# dicts tracking total watch time for users and streamers\n",
    "streamer_to_time = defaultdict(int)\n",
    "user_to_time = defaultdict(int)\n",
    "user_to_wallclock = defaultdict(list)\n",
    "\n",
    "# dicts tracking total number of streams watched\n",
    "streamer_to_nstreams = defaultdict(int)\n",
    "user_to_nstreams = defaultdict(int)\n",
    "times = []\n",
    "\n",
    "# dicts mapping stream id to streamer and vise versa\n",
    "streamer_to_stream = defaultdict(list)\n",
    "stream_to_streamer = defaultdict(str)\n",
    "stream_times = defaultdict(list)\n",
    "time_to_streamer = defaultdict(list)\n",
    "\n",
    "# list for plotting statistics\n",
    "users = []\n",
    "streamers = []\n",
    "avg_user_streamtimes = []\n",
    "avg_streamer_streamtimes = []\n",
    "\n",
    "userIDs = {}\n",
    "streamerIDs = {}\n",
    "\n",
    "# init various data structures\n",
    "avg_time_watched = 0\n",
    "for d in full_dataset:\n",
    "    t_start = int(d[time_start])\n",
    "    t_stop = int(d[time_stop])\n",
    "    \n",
    "    # track streamers currently streaming\n",
    "    time_to_streamer[t_start].append(d[streamer_username])\n",
    "    \n",
    "    # calc time watched\n",
    "    t = (t_stop - t_start) * 10\n",
    "    streamer_to_nstreams[d[streamer_username]] += 1\n",
    "    user_to_nstreams[d[user_id]] += 1\n",
    "    \n",
    "    # track start and stop times \n",
    "    times.append(t_start)\n",
    "    times.append(t_stop)\n",
    "    user_to_wallclock[d[user_id]].append((t_start, t_stop))\n",
    "    \n",
    "    # track total time viewing streams\n",
    "    streamer_to_user[d[streamer_username]].append(d[user_id])\n",
    "    streamer_to_time[d[streamer_username]] += t\n",
    "    user_to_streamer[d[user_id]].append(d[streamer_username])\n",
    "    user_to_time[d[user_id]] += t\n",
    "    avg_time_watched += t\n",
    "    \n",
    "    # track stream info\n",
    "    stream_to_streamer[d[stream_id]] = d[streamer_username]\n",
    "    streamer_to_stream[d[streamer_username]].append(d[stream_id])\n",
    "    stream_times[d[stream_id]].append(t_start)\n",
    "    stream_times[d[stream_id]].append(t_stop)\n",
    "    \n",
    "    u = d[user_id]\n",
    "    s = d[streamer_username]\n",
    "    if not u in userIDs: userIDs[u] = len(userIDs)\n",
    "    if not s in streamerIDs: streamerIDs[s] = len(streamerIDs)\n",
    "    \n",
    "max_time = max(times)\n",
    "min_time = min(times)\n",
    "print(\"Max time: \" + str(max_time))\n",
    "print(\"Min time: \" + str(min_time))"
   ]
  },
  {
   "cell_type": "code",
   "execution_count": 6,
   "metadata": {},
   "outputs": [],
   "source": [
    "# streamer to ind\n",
    "streamer_to_ind = defaultdict(int)\n",
    "ind_to_streamer = defaultdict(str)\n",
    "\n",
    "count = 0\n",
    "for streamer in streamer_to_stream:\n",
    "    streamer_to_ind[streamer] = count\n",
    "    ind_to_streamer[count] = streamer\n",
    "    \n",
    "    count += 1"
   ]
  },
  {
   "cell_type": "code",
   "execution_count": 7,
   "metadata": {},
   "outputs": [],
   "source": [
    "# info for each stream\n",
    "stream_info = defaultdict(list)\n",
    "for stream in stream_times:\n",
    "    t = stream_times[stream]\n",
    "    s_start = min(t)\n",
    "    s_stop = max(t)\n",
    "    \n",
    "    # add streamer username, stream start time, stream end time \n",
    "    stream_info[stream].append(stream_to_streamer[stream])\n",
    "    stream_info[stream].append(s_start)\n",
    "    stream_info[stream].append(s_stop)"
   ]
  },
  {
   "cell_type": "code",
   "execution_count": 8,
   "metadata": {},
   "outputs": [],
   "source": [
    "# time stamp info for each streamer\n",
    "streamer_timesteps = defaultdict(set)\n",
    "for streamer in streamer_to_stream:\n",
    "    stream_id_list = streamer_to_stream[streamer]\n",
    "    for stream in stream_id_list:\n",
    "        info = stream_info[stream]\n",
    "        start = info[1]\n",
    "        stop = info[2]\n",
    "        streamer_timesteps[streamer].add((start, stop))"
   ]
  },
  {
   "cell_type": "code",
   "execution_count": 9,
   "metadata": {},
   "outputs": [],
   "source": [
    "# determine how many streams are running at each timestep\n",
    "count_times = np.zeros((max_time + 1), dtype='int')\n",
    "for stream in stream_info:\n",
    "    s_start = stream_info[stream][1]\n",
    "    s_stop = stream_info[stream][2]\n",
    "\n",
    "    for i in range(s_start, s_stop + 1):\n",
    "        count_times[i] += 1"
   ]
  },
  {
   "cell_type": "code",
   "execution_count": 10,
   "metadata": {},
   "outputs": [],
   "source": [
    "avg_user_time = 0\n",
    "for user in user_to_time:\n",
    "    avg_user_time += user_to_time[user]\n",
    "    \n",
    "avg_streamer_time = 0\n",
    "for streamer in streamer_to_time:\n",
    "    avg_streamer_time += streamer_to_time[streamer]\n",
    "    \n",
    "avg_user_streamtime = 0\n",
    "for user in user_to_nstreams:\n",
    "    avg_user_streamtime += (user_to_time[user] / user_to_nstreams[user])\n",
    "    \n",
    "    # grab data for plotting\n",
    "    users.append(user)\n",
    "    avg_user_streamtimes.append(user_to_time[user] / user_to_nstreams[user])\n",
    "\n",
    "avg_streamer_streamtime = 0\n",
    "for streamer in streamer_to_nstreams:\n",
    "    avg_streamer_streamtime += (streamer_to_time[streamer] / streamer_to_nstreams[streamer])\n",
    "    \n",
    "    # grab data for plotting\n",
    "    streamers.append(streamer)\n",
    "    avg_streamer_streamtimes.append(streamer_to_time[streamer] / streamer_to_nstreams[streamer])"
   ]
  },
  {
   "cell_type": "code",
   "execution_count": 11,
   "metadata": {},
   "outputs": [
    {
     "name": "stdout",
     "output_type": "stream",
     "text": [
      "Total number of users: 100000\n",
      "Total number of streamers: 162625\n"
     ]
    }
   ],
   "source": [
    "print(\"Total number of users: \" + str(len(user_to_time)))\n",
    "print(\"Total number of streamers: \" + str(len(streamer_to_time)))"
   ]
  },
  {
   "cell_type": "code",
   "execution_count": 12,
   "metadata": {},
   "outputs": [
    {
     "name": "stdout",
     "output_type": "stream",
     "text": [
      "Average time viewing a stream in total: 31.420547413730958\n",
      "Average absolute time a user watches: 958.8709\n",
      "Average absolute time a streamer is watched: 589.6208455034589\n"
     ]
    }
   ],
   "source": [
    "print(\"Average time viewing a stream in total: \" + str(avg_time_watched / len(full_dataset)))\n",
    "print(\"Average absolute time a user watches: \" + str(avg_user_time / len(user_to_time)))\n",
    "print(\"Average absolute time a streamer is watched: \" + str(avg_streamer_time / len(streamer_to_time)))"
   ]
  },
  {
   "cell_type": "code",
   "execution_count": 13,
   "metadata": {},
   "outputs": [
    {
     "name": "stdout",
     "output_type": "stream",
     "text": [
      "Average instance time a user watches: 30.364046319686075\n",
      "Average instance time a streamer is watched: 26.9667813186417\n"
     ]
    }
   ],
   "source": [
    "print(\"Average instance time a user watches: \" + str(avg_user_streamtime / len(user_to_nstreams)))\n",
    "print(\"Average instance time a streamer is watched: \" + str(avg_streamer_streamtime / len(streamer_to_nstreams)))"
   ]
  },
  {
   "cell_type": "code",
   "execution_count": 14,
   "metadata": {},
   "outputs": [
    {
     "data": {
      "image/png": "[encoded data removed]",
      "text/plain": [
       "<Figure size 432x288 with 1 Axes>"
      ]
     },
     "metadata": {
      "needs_background": "light"
     },
     "output_type": "display_data"
    }
   ],
   "source": [
    "avg_streamer_streamtimes.sort()\n",
    "nums = np.arange(0, len(streamers))\n",
    "plt.title(\"Average Time a Streamer is Watched\")\n",
    "plt.scatter(nums, np.array(avg_streamer_streamtimes), s=0.5, c='r')\n",
    "plt.gcf().savefig(\"Average Time a Streamer is Watched.png\")\n",
    "plt.show()"
   ]
  },
  {
   "cell_type": "code",
   "execution_count": 15,
   "metadata": {},
   "outputs": [
    {
     "data": {
      "image/png": "[encoded data removed]",
      "text/plain": [
       "<Figure size 432x288 with 1 Axes>"
      ]
     },
     "metadata": {
      "needs_background": "light"
     },
     "output_type": "display_data"
    }
   ],
   "source": [
    "avg_user_streamtimes.sort()\n",
    "nums = np.arange(0, len(users))\n",
    "plt.title(\"Average Time User Watches a Stream\")\n",
    "plt.scatter(nums, np.array(avg_user_streamtimes), s=0.5, c='r')\n",
    "plt.gcf().savefig(\"Average Time User Watches a Stream.png\")\n",
    "plt.show()"
   ]
  },
  {
   "cell_type": "code",
   "execution_count": 16,
   "metadata": {},
   "outputs": [
    {
     "data": {
      "image/png": "[encoded data removed]",
      "text/plain": [
       "<Figure size 432x288 with 1 Axes>"
      ]
     },
     "metadata": {
      "needs_background": "light"
     },
     "output_type": "display_data"
    }
   ],
   "source": [
    "nums = np.arange(0, max_time + 1)\n",
    "plt.title(\"Times that Streams Are Viewed\")\n",
    "plt.scatter(nums, count_times, s=0.5, c='r')\n",
    "plt.gcf().savefig(\"Times that Streams Are Viewed\")\n",
    "plt.show()"
   ]
  },
  {
   "cell_type": "code",
   "execution_count": 17,
   "metadata": {},
   "outputs": [
    {
     "data": {
      "image/png": "[encoded data removed]",
      "text/plain": [
       "<Figure size 432x288 with 1 Axes>"
      ]
     },
     "metadata": {
      "needs_background": "light"
     },
     "output_type": "display_data"
    }
   ],
   "source": [
    "times_watched = []\n",
    "time_viewed = []\n",
    "for streamer in streamer_to_nstreams:\n",
    "    times_watched.append(streamer_to_nstreams[streamer])\n",
    "    time_viewed.append(streamer_to_time[streamer])\n",
    "    \n",
    "plt.title(\"Streamer: Times Watched vs Time Viewed\")\n",
    "plt.xlabel(\"Number of Times Watched\")\n",
    "plt.ylabel(\"Total Time Viewed\")\n",
    "plt.scatter(np.array(times_watched), np.array(time_viewed), s=0.5, c='r')\n",
    "plt.gcf().savefig(\"Times that Streams Are Viewed\")\n",
    "plt.show()"
   ]
  },
  {
   "cell_type": "markdown",
   "metadata": {},
   "source": [
    "### Baseline models:\n",
    "\n",
    "The first baseline model we used was a popularity based model with a threshold of 0.5, similar to what we used in Assignment 1"
   ]
  },
  {
   "cell_type": "code",
   "execution_count": 18,
   "metadata": {},
   "outputs": [],
   "source": [
    "# read in twitch data \n",
    "full_dataset = list(readCSV(\"100k_a.csv\"))"
   ]
  },
  {
   "cell_type": "code",
   "execution_count": 19,
   "metadata": {},
   "outputs": [],
   "source": [
    "for d in full_dataset:\n",
    "    d[time_start] = int(d[time_start])\n",
    "    d[time_stop] = int(d[time_stop])"
   ]
  },
  {
   "cell_type": "code",
   "execution_count": 20,
   "metadata": {},
   "outputs": [
    {
     "name": "stdout",
     "output_type": "stream",
     "text": [
      "{'1': '1766', '33842865744': '33838962656', 'mithrain': 'tmemoryy', '154': 98, '156': 103}\n",
      "{'1': '2244', '33842865744': '33839130544', 'mithrain': 'slrabbit99', '154': 98, '156': 132}\n",
      "{'1': '2261', '33842865744': '33838438880', 'mithrain': 'rhdgurwns', '154': 98, '156': 99}\n",
      "{'1': '2407', '33842865744': '33838522272', 'mithrain': 'anomally', '154': 98, '156': 99}\n",
      "{'1': '2838', '33842865744': '33838478032', 'mithrain': 'strawberry_bbubbbu', '154': 98, '156': 99}\n",
      "{'1': '3085', '33842865744': '33836858368', 'mithrain': 'osvaldohs', '154': 98, '156': 101}\n",
      "{'1': '3132', '33842865744': '33838112224', 'mithrain': 'general_hs_', '154': 98, '156': 100}\n",
      "{'1': '3664', '33842865744': '33838551136', 'mithrain': 'frizko94', '154': 98, '156': 100}\n",
      "{'1': '3974', '33842865744': '33838254848', 'mithrain': 'khezu', '154': 98, '156': 99}\n",
      "{'1': '3998', '33842865744': '33839089168', 'mithrain': 'raderaderader', '154': 98, '156': 102}\n"
     ]
    }
   ],
   "source": [
    "full_dataset = sorted(full_dataset, key = lambda i: i[time_start])\n",
    "\n",
    "for i in range(50000, 50010):\n",
    "    print(full_dataset[i])"
   ]
  },
  {
   "cell_type": "code",
   "execution_count": 21,
   "metadata": {},
   "outputs": [],
   "source": [
    "# Create train, valid, test sets with a 75/12.5/12.5 split\n",
    "train = full_dataset[:int(.75*len(full_dataset))]\n",
    "valid = full_dataset[int(.75*len(full_dataset)):int(.875*len(full_dataset))]\n",
    "test = full_dataset[int(.875*len(full_dataset)):]"
   ]
  },
  {
   "cell_type": "code",
   "execution_count": 22,
   "metadata": {},
   "outputs": [
    {
     "data": {
      "text/plain": [
       "True"
      ]
     },
     "execution_count": 22,
     "metadata": {},
     "output_type": "execute_result"
    }
   ],
   "source": [
    "len(full_dataset) == len(train) + len(valid) + len(test)"
   ]
  },
  {
   "cell_type": "code",
   "execution_count": 23,
   "metadata": {},
   "outputs": [],
   "source": [
    "streamers_train = set() # distinct streamers in train\n",
    "user_to_streamer_train = defaultdict(set) # user to streamer map for train only\n",
    "streamer_to_user_train = defaultdict(set) # streamer to user map for train only\n",
    "\n",
    "# user iterations\n",
    "user_interactions = defaultdict(list)\n",
    "\n",
    "for t in train:\n",
    "    user = t[user_id]\n",
    "    streamer = t[streamer_username]\n",
    "    streamers_train.add(streamer)\n",
    "    user_to_streamer_train[user].add(streamer)\n",
    "    streamer_to_user_train[streamer].add(user)\n",
    "    user_interactions[user].append(t[streamer_username])"
   ]
  },
  {
   "cell_type": "code",
   "execution_count": 24,
   "metadata": {},
   "outputs": [],
   "source": [
    "# init streamers list\n",
    "streamers = [s for s in streamer_to_user_train]"
   ]
  },
  {
   "cell_type": "code",
   "execution_count": 25,
   "metadata": {},
   "outputs": [],
   "source": [
    "# Return True if start is in the range of any of the stream times for the streamer\n",
    "def time_in_range(start, timesteps):\n",
    "    for timestep in timesteps:\n",
    "        if start >= timestep[0] and start < timestep[1]:\n",
    "#             print(str(start) + \" \" + str(timestep[0]) + \" \" + str(timestep[1]))\n",
    "            return True\n",
    "    return False"
   ]
  },
  {
   "cell_type": "code",
   "execution_count": 26,
   "metadata": {},
   "outputs": [
    {
     "name": "stdout",
     "output_type": "stream",
     "text": [
      "381466\n",
      "381466\n",
      "762932\n"
     ]
    }
   ],
   "source": [
    "# Create new valid and test sets such that it consists of 50% positive and 50% negative\n",
    "# Negative interactions imply unavailibility of streamer at interaction time \n",
    "negatives = [] # hold negative samples\n",
    "count = 0\n",
    "print(len(valid))\n",
    "\n",
    "vneg_user_interactions = defaultdict(list)\n",
    "\n",
    "for v in valid:\n",
    "    # get list of streamers currently playing\n",
    "    streamer_list = time_to_streamer[v[time_start]]\n",
    "    \n",
    "    # sample streamer that the user didn't watch\n",
    "    streamer = v[streamer_username]\n",
    "    while streamer == v[streamer_username]:\n",
    "        streamer = random.choice(streamer_list)\n",
    "        \n",
    "    sample = {user_id: v[user_id], stream_id: '-1', streamer_username: streamer, time_start: v[time_start] , time_stop: v[time_start]}\n",
    "    negatives.append(sample)\n",
    "    \n",
    "    vneg_user_interactions[v[user_id]].append(streamer)\n",
    "    \n",
    "#     count += 1\n",
    "#     if count % 1000 == 0:\n",
    "#         print(count)\n",
    "    \n",
    "print(len(valid))\n",
    "valid.extend(negatives)\n",
    "random.shuffle(valid)\n",
    "print(len(valid))"
   ]
  },
  {
   "cell_type": "code",
   "execution_count": 27,
   "metadata": {},
   "outputs": [],
   "source": [
    "def most_popular(threshold, streamerTime, totalStreamers):\n",
    "    mostPopular = [(streamerTime[x], x) for x in streamerTime]\n",
    "    mostPopular.sort()\n",
    "    mostPopular.reverse()\n",
    "    \n",
    "    return1 = set()\n",
    "    count = 0\n",
    "    \n",
    "    print(\"Total streamers: \" + str(totalStreamers))\n",
    "    for ic, i in mostPopular:\n",
    "        count += 1\n",
    "        return1.add(i)\n",
    "        if count > int(totalStreamers/(1/threshold)): break\n",
    "            \n",
    "    print(\"Return set length: \" + str(len(return1)))\n",
    "    \n",
    "    return return1"
   ]
  },
  {
   "cell_type": "code",
   "execution_count": 28,
   "metadata": {},
   "outputs": [],
   "source": [
    "# Return True if any of the most popular streamers are streaming at current timestep\n",
    "def streamer_in_range(popular_streamers, start):\n",
    "    for streamer in popular_streamers:\n",
    "        timesteps = streamer_timesteps[streamer]\n",
    "        \n",
    "#         print(str(start) + \" timesteps: \" + str(timesteps))\n",
    "        if time_in_range(start, timesteps):\n",
    "            return True\n",
    "    return False"
   ]
  },
  {
   "cell_type": "code",
   "execution_count": 29,
   "metadata": {},
   "outputs": [],
   "source": [
    "totalStreamers = 0\n",
    "streamerTime_t = defaultdict(int)\n",
    "streamerTime_v = defaultdict(int)\n",
    "for t in train:\n",
    "    t_start = int(t[time_start])\n",
    "    t_stop = int(t[time_stop])\n",
    "\n",
    "#     streamerTime_t[t[streamer_username]] += (t_stop - t_start)\n",
    "#     streamerTime_v[t[streamer_username]] += (t_stop - t_start)\n",
    "\n",
    "    if streamerTime_t[t[streamer_username]] == 0:\n",
    "        totalStreamers += 1\n",
    "    \n",
    "    streamerTime_t[t[streamer_username]] += 1\n",
    "    streamerTime_v[t[streamer_username]] += 1"
   ]
  },
  {
   "cell_type": "code",
   "execution_count": 30,
   "metadata": {},
   "outputs": [
    {
     "data": {
      "text/plain": [
       "True"
      ]
     },
     "execution_count": 30,
     "metadata": {},
     "output_type": "execute_result"
    }
   ],
   "source": [
    "len(streamerTime_t) == totalStreamers"
   ]
  },
  {
   "cell_type": "code",
   "execution_count": 31,
   "metadata": {},
   "outputs": [
    {
     "name": "stdout",
     "output_type": "stream",
     "text": [
      "Total streamers: 137586\n",
      "Return set length: 1376\n",
      "100000\n",
      "200000\n",
      "300000\n",
      "400000\n",
      "500000\n",
      "600000\n",
      "700000\n",
      "[0, 1, 0, 0, 1, 1, 1, 1, 0, 0, 1, 0, 1, 1, 1, 0, 0, 1, 0, 1, 0, 1, 1, 0, 0, 1, 1, 1, 1, 1]\n",
      "[1, 0, 1, 0, 1, 1, 0, 1, 0, 1, 1, 1, 0, 0, 1, 0, 0, 0, 0, 1, 1, 1, 0, 0, 0, 0, 1, 1, 1, 0]\n",
      "Accuracy of baseline model on validation set: 0.5009856710689813\n"
     ]
    }
   ],
   "source": [
    "# Evaluate accuracy of baseline model on valid set\n",
    "most_popular_50 = most_popular(0.01, streamerTime_t, totalStreamers) # most popular streamers using threshold of 50th percentile of popularity\n",
    "\n",
    "# create validation baseline\n",
    "actual_baseline_valid = [0 if v[stream_id] == '-1' else 1 for v in valid]\n",
    "\n",
    "# create predicted baseline\n",
    "pred_baseline_valid = []\n",
    "count = 0\n",
    "for v in valid:\n",
    "    if v[streamer_username] not in most_popular_50:\n",
    "        pred_baseline_valid.append(0)\n",
    "    else:\n",
    "        i_r = streamer_in_range(most_popular_50, int(v[time_start]))\n",
    "        pred_baseline_valid.append(int(i_r))\n",
    "        \n",
    "#     print(pred_baseline_valid[-1])\n",
    "        \n",
    "    count += 1\n",
    "    if count % 100000 == 0: \n",
    "        print(count)\n",
    "        \n",
    "print(pred_baseline_valid[:30])\n",
    "print(actual_baseline_valid[:30])\n",
    "\n",
    "baseline_acc_valid = accuracy_score(actual_baseline_valid, pred_baseline_valid)\n",
    "print('Accuracy of baseline model on validation set: {}'.format(baseline_acc_valid))"
   ]
  },
  {
   "cell_type": "markdown",
   "metadata": {},
   "source": [
    "Acc with thresh of 0.75: 0.8666.\n",
    "Acc with thresh of 0.5: 0.7476.\n",
    "Acc with thresh of 0.25: 0.6266."
   ]
  },
  {
   "cell_type": "code",
   "execution_count": 32,
   "metadata": {},
   "outputs": [],
   "source": [
    "def Jaccard(s1, s2, acc=True):\n",
    "    numer = len(s1.intersection(s2))\n",
    "    denom = len(s1.union(s2))\n",
    "    \n",
    "    return numer/ denom"
   ]
  },
  {
   "cell_type": "code",
   "execution_count": 33,
   "metadata": {},
   "outputs": [],
   "source": [
    "def calc_acc(pred, act):\n",
    "    avg = 0\n",
    "    for i in range(len(pred)):\n",
    "        avg += Jaccard(pred[i], act[i])\n",
    "        \n",
    "    return (avg / len(pred))"
   ]
  },
  {
   "cell_type": "markdown",
   "metadata": {},
   "source": [
    "The second baseline model we create is a Jaccard similarity based model. thresh = 0.01 => 0.872. "
   ]
  },
  {
   "cell_type": "code",
   "execution_count": 57,
   "metadata": {},
   "outputs": [],
   "source": [
    "def predict_watched(user_id, streamer_username, time_start, threshold):\n",
    "    # assure that streamer is streaming at time of interaction\n",
    "    timesteps = streamer_timesteps[streamer_username]\n",
    "    if not time_in_range(time_start, timesteps):\n",
    "        return 0\n",
    "    \n",
    "    # at this point, streamer is streaming at time of interaction\n",
    "    similarities = []\n",
    "    for streamer in user_to_streamer_train[user_id]:\n",
    "        if streamer_username == streamer: continue\n",
    "        similarities.append(Jaccard(set(streamer_to_user_train[streamer_username]), set(streamer_to_user_train[streamer]), acc=False))\n",
    "    \n",
    "    if len(similarities) == 0 or max(similarities) < threshold:\n",
    "        return 0\n",
    "    return 1"
   ]
  },
  {
   "cell_type": "code",
   "execution_count": 58,
   "metadata": {},
   "outputs": [
    {
     "name": "stdout",
     "output_type": "stream",
     "text": [
      "100000\n",
      "200000\n",
      "300000\n",
      "400000\n",
      "500000\n",
      "600000\n",
      "700000\n",
      "Accuracy of Jaccard similarity model: 0.8723608394981466\n"
     ]
    }
   ],
   "source": [
    "jacc_preds = []\n",
    "thresh = 0.01\n",
    "\n",
    "actual_baseline_valid = [0 if v[stream_id] == '-1' else 1 for v in valid]\n",
    "\n",
    "count = 0\n",
    "for v in valid:\n",
    "    jacc_preds.append(predict_watched(v[user_id], v[streamer_username], int(v[time_start]), thresh))\n",
    "    \n",
    "    count += 1\n",
    "    if count % 100000 == 0: \n",
    "        print(count)\n",
    "jacc_acc = accuracy_score(actual_baseline_valid, jacc_preds)\n",
    "print('Accuracy of Jaccard similarity model: {}'.format(jacc_acc))"
   ]
  },
  {
   "cell_type": "markdown",
   "metadata": {},
   "source": [
    "First model we try is the FPMC model"
   ]
  },
  {
   "cell_type": "code",
   "execution_count": 34,
   "metadata": {},
   "outputs": [],
   "source": [
    "import tensorflow as tf\n",
    "\n",
    "num_users = len(user_to_time)\n",
    "num_streamers = len(streamer_to_time)\n",
    "\n",
    "class FPMC(tf.keras.Model):\n",
    "    def __init__(self, K, lamb, UI = 1, IJ = 1):\n",
    "        super(FPMC, self).__init__()\n",
    "        # Initialize variables\n",
    "        self.betaI = tf.Variable(tf.random.normal([num_streamers],stddev=0.001))\n",
    "        self.gammaUI = tf.Variable(tf.random.normal([num_users,K],stddev=0.001))\n",
    "        self.gammaIU = tf.Variable(tf.random.normal([num_streamers,K],stddev=0.001))\n",
    "        self.gammaIJ = tf.Variable(tf.random.normal([num_streamers,K],stddev=0.001))\n",
    "        self.gammaJI = tf.Variable(tf.random.normal([num_streamers,K],stddev=0.001))\n",
    "        \n",
    "        # Regularization coefficient\n",
    "        self.lamb = lamb\n",
    "        # Which terms to include\n",
    "        self.UI = UI\n",
    "        self.IJ = IJ\n",
    "\n",
    "    # Prediction for a single instance\n",
    "    def predict(self, u, i, j):\n",
    "        u = userIDs[u]\n",
    "        i = streamerIDs[i]\n",
    "        j = streamerIDs[j]\n",
    "        \n",
    "        p = self.betaI[i] + self.UI * tf.tensordot(self.gammaUI[u], self.gammaIU[i], 1) +\\\n",
    "                            self.IJ * tf.tensordot(self.gammaIJ[i], self.gammaJI[j], 1)\n",
    "        return p\n",
    "\n",
    "    # Regularizer\n",
    "    def reg(self):\n",
    "        return self.lamb * (tf.nn.l2_loss(self.betaI) +\\\n",
    "                            tf.nn.l2_loss(self.gammaUI) +\\\n",
    "                            tf.nn.l2_loss(self.gammaIU) +\\\n",
    "                            tf.nn.l2_loss(self.gammaIJ) +\\\n",
    "                            tf.nn.l2_loss(self.gammaJI))\n",
    "\n",
    "    def call(self, sampleU, # user\n",
    "                   sampleI, # item\n",
    "                   sampleJ, # previous item\n",
    "                   sampleK): # negative item\n",
    "        u = tf.convert_to_tensor(sampleU, dtype=tf.int32)\n",
    "        i = tf.convert_to_tensor(sampleI, dtype=tf.int32)\n",
    "        j = tf.convert_to_tensor(sampleJ, dtype=tf.int32)\n",
    "        k = tf.convert_to_tensor(sampleK, dtype=tf.int32)\n",
    "        \n",
    "        gamma_ui = tf.nn.embedding_lookup(self.gammaUI, u)\n",
    "        gamma_iu = tf.nn.embedding_lookup(self.gammaIU, i)\n",
    "        gamma_ij = tf.nn.embedding_lookup(self.gammaIJ, i)\n",
    "        gamma_ji = tf.nn.embedding_lookup(self.gammaJI, j)\n",
    "        beta_i = tf.nn.embedding_lookup(self.betaI, i)\n",
    "        \n",
    "        x_uij = beta_i + self.UI * tf.reduce_sum(tf.multiply(gamma_ui, gamma_iu), 1) +\\\n",
    "                         self.IJ * tf.reduce_sum(tf.multiply(gamma_ij, gamma_ji), 1)\n",
    "        \n",
    "        gamma_uk = tf.nn.embedding_lookup(self.gammaUI, u)\n",
    "        gamma_ku = tf.nn.embedding_lookup(self.gammaIU, k)\n",
    "        gamma_kj = tf.nn.embedding_lookup(self.gammaIJ, k)\n",
    "        gamma_jk = tf.nn.embedding_lookup(self.gammaJI, j)\n",
    "        \n",
    "        beta_k = tf.nn.embedding_lookup(self.betaI, k)\n",
    "        x_ukj = beta_k + self.UI * tf.reduce_sum(tf.multiply(gamma_uk, gamma_ku), 1) +\\\n",
    "                         self.IJ * tf.reduce_sum(tf.multiply(gamma_kj, gamma_jk), 1)\n",
    "        return -tf.reduce_mean(tf.math.log(tf.math.sigmoid(x_uij - x_ukj)))"
   ]
  },
  {
   "cell_type": "code",
   "execution_count": 35,
   "metadata": {},
   "outputs": [],
   "source": [
    "def trainingStep(model, interactions):\n",
    "    with tf.GradientTape() as tape:\n",
    "        sampleU, sampleI, sampleJ, sampleK = [], [], [], []\n",
    "        for _ in range(100000):\n",
    "            u,i,j = random.choice(interactions) # positive sample\n",
    "            \n",
    "            # negative sample\n",
    "            k = random.choice(streamers) \n",
    "            while k in user_to_streamer_train[u]:\n",
    "                k = random.choice(streamers)\n",
    "                \n",
    "            sampleU.append(userIDs[u])\n",
    "            sampleI.append(streamerIDs[i])\n",
    "            sampleJ.append(streamerIDs[j])\n",
    "            sampleK.append(streamerIDs[k])\n",
    "\n",
    "        loss = model(sampleU,sampleI,sampleJ,sampleK)\n",
    "        loss += model.reg()\n",
    "    gradients = tape.gradient(loss, model.trainable_variables)\n",
    "    optimizer.apply_gradients((grad, var) for\n",
    "                              (grad, var) in zip(gradients, model.trainable_variables)\n",
    "                              if grad is not None)\n",
    "    return loss.numpy()"
   ]
  },
  {
   "cell_type": "code",
   "execution_count": 36,
   "metadata": {},
   "outputs": [],
   "source": [
    "def testingStep(model, interactions):\n",
    "    with tf.GradientTape() as tape:\n",
    "        sampleU, sampleI, sampleJ, sampleK = [], [], [], []\n",
    "        for _ in range(100000):\n",
    "            u,i,j = random.choice(interactions) # positive sample\n",
    "            \n",
    "            # negative sample\n",
    "            k = random.choice(streamers) \n",
    "            while k in user_to_streamer_train[u]:\n",
    "                k = random.choice(streamers)\n",
    "                \n",
    "            sampleU.append(userIDs[u])\n",
    "            sampleI.append(streamerIDs[i])\n",
    "            sampleJ.append(streamerIDs[j])\n",
    "            sampleK.append(streamerIDs[k])\n",
    "\n",
    "        loss = model(sampleU,sampleI,sampleJ,sampleK)\n",
    "    return loss.numpy()"
   ]
  },
  {
   "cell_type": "code",
   "execution_count": 37,
   "metadata": {},
   "outputs": [],
   "source": [
    "# create list to train with \n",
    "train_iWithPrevious = []\n",
    "for u in user_interactions:\n",
    "    lastItem = 'dummy'\n",
    "    \n",
    "    for s in user_interactions[u]:\n",
    "        train_iWithPrevious.append((u,s,lastItem))\n",
    "        lastItem = s"
   ]
  },
  {
   "cell_type": "code",
   "execution_count": 38,
   "metadata": {},
   "outputs": [],
   "source": [
    "optimizer = tf.keras.optimizers.Adam(0.1)"
   ]
  },
  {
   "cell_type": "code",
   "execution_count": 41,
   "metadata": {},
   "outputs": [],
   "source": [
    "modelFPMC_a = FPMC(5, 0.00001, UI=1, IJ=1)"
   ]
  },
  {
   "cell_type": "code",
   "execution_count": 42,
   "metadata": {},
   "outputs": [
    {
     "name": "stdout",
     "output_type": "stream",
     "text": [
      "iteration 10, objective = 0.37261724\n",
      "iteration 20, objective = 0.37666816\n",
      "iteration 30, objective = 0.3621567\n",
      "iteration 40, objective = 0.35237893\n",
      "iteration 50, objective = 0.3444966\n",
      "iteration 60, objective = 0.34426457\n",
      "iteration 70, objective = 0.33911428\n",
      "iteration 80, objective = 0.33840775\n",
      "iteration 90, objective = 0.3355483\n",
      "iteration 100, objective = 0.33703178\n"
     ]
    }
   ],
   "source": [
    "for i in range(100):\n",
    "    obj = trainingStep(modelFPMC_a, train_iWithPrevious)\n",
    "    if (i % 10 == 9): print(\"iteration \" + str(i+1) + \", objective = \" + str(obj))"
   ]
  },
  {
   "cell_type": "code",
   "execution_count": 43,
   "metadata": {},
   "outputs": [],
   "source": [
    "# user iterations\n",
    "v_user_interactions = defaultdict(list)\n",
    "\n",
    "for v in valid:\n",
    "    user = v[user_id]\n",
    "    v_user_interactions[user].append(v[streamer_username])"
   ]
  },
  {
   "cell_type": "code",
   "execution_count": 44,
   "metadata": {},
   "outputs": [],
   "source": [
    "# create list to eval valid with \n",
    "valid_iWithPrevious = []\n",
    "for v in v_user_interactions:\n",
    "    lastItem = 'dummy'\n",
    "    \n",
    "    for s in v_user_interactions[v]:\n",
    "        valid_iWithPrevious.append((v,s,lastItem))\n",
    "        lastItem = s"
   ]
  },
  {
   "cell_type": "code",
   "execution_count": 45,
   "metadata": {},
   "outputs": [],
   "source": [
    "interactionsValidPerUser = defaultdict(set)\n",
    "itemSet = set()\n",
    "for u,i,j in valid_iWithPrevious:\n",
    "    interactionsValidPerUser[u].add((i,j))\n",
    "    itemSet.add(i)\n",
    "    itemSet.add(j)"
   ]
  },
  {
   "cell_type": "code",
   "execution_count": null,
   "metadata": {},
   "outputs": [],
   "source": [
    "# # create neg list to eval valid with \n",
    "# neg_valid_iWithPrevious = []\n",
    "# for v in vneg_user_interactions:\n",
    "#     lastItem = 'dummy'\n",
    "    \n",
    "#     for s in vneg_user_interactions[v]:\n",
    "#         neg_valid_iWithPrevious.append((v,s,lastItem))\n",
    "#         lastItem = s"
   ]
  },
  {
   "cell_type": "code",
   "execution_count": 46,
   "metadata": {},
   "outputs": [],
   "source": [
    "def AUCu(model, u, N):\n",
    "    win = 0\n",
    "    \n",
    "    if N > len(interactionsValidPerUser[u]):\n",
    "        N = len(interactionsValidPerUser[u])\n",
    "        \n",
    "    positive = random.sample(interactionsValidPerUser[u],N)\n",
    "    negative = random.sample(itemSet,N)\n",
    "    \n",
    "    for (i,j),k in zip(positive,negative):\n",
    "        sp = model.predict(u, i, j).numpy()\n",
    "        sn = model.predict(u, k, j).numpy()\n",
    "        if sp > sn:\n",
    "            win += 1\n",
    "            \n",
    "    return win/N"
   ]
  },
  {
   "cell_type": "code",
   "execution_count": 47,
   "metadata": {},
   "outputs": [],
   "source": [
    "def AUC(model):\n",
    "    av = []\n",
    "    count = 0\n",
    "    for u in interactionsValidPerUser:\n",
    "        av.append(AUCu(model, u, 1))\n",
    "        \n",
    "        count += 1\n",
    "        if count % 1000 == 0: \n",
    "            print(count)\n",
    "    return sum(av) / len(av)"
   ]
  },
  {
   "cell_type": "code",
   "execution_count": 48,
   "metadata": {},
   "outputs": [
    {
     "name": "stdout",
     "output_type": "stream",
     "text": [
      "1000\n",
      "2000\n",
      "3000\n",
      "4000\n",
      "5000\n",
      "6000\n",
      "7000\n",
      "8000\n",
      "9000\n",
      "10000\n",
      "11000\n",
      "12000\n",
      "13000\n",
      "14000\n",
      "15000\n",
      "16000\n",
      "17000\n",
      "18000\n",
      "19000\n",
      "20000\n",
      "21000\n",
      "22000\n",
      "23000\n",
      "24000\n",
      "25000\n",
      "26000\n",
      "27000\n",
      "28000\n",
      "29000\n",
      "30000\n",
      "31000\n",
      "32000\n",
      "33000\n",
      "34000\n",
      "35000\n",
      "36000\n",
      "37000\n",
      "38000\n",
      "39000\n",
      "40000\n",
      "41000\n",
      "42000\n",
      "43000\n",
      "44000\n",
      "45000\n",
      "46000\n",
      "47000\n",
      "48000\n",
      "49000\n",
      "50000\n",
      "51000\n",
      "52000\n",
      "53000\n",
      "54000\n",
      "55000\n",
      "56000\n",
      "57000\n",
      "58000\n",
      "59000\n",
      "60000\n",
      "61000\n",
      "62000\n",
      "63000\n",
      "64000\n",
      "65000\n",
      "66000\n",
      "67000\n",
      "68000\n",
      "69000\n",
      "AUC = 0.8605981346018424\n"
     ]
    }
   ],
   "source": [
    "print(\"AUC = \" + str(AUC(modelFPMC_a)))"
   ]
  },
  {
   "cell_type": "code",
   "execution_count": 49,
   "metadata": {},
   "outputs": [
    {
     "name": "stdout",
     "output_type": "stream",
     "text": [
      "381467\n",
      "762934\n"
     ]
    }
   ],
   "source": [
    "negatives = [] # hold negative samples\n",
    "count = 0\n",
    "print(len(test))\n",
    "\n",
    "for t in test:\n",
    "    # get list of streamers currently playing\n",
    "    streamer_list = time_to_streamer[t[time_start]]\n",
    "    \n",
    "    # sample streamer that the user didn't watch\n",
    "    streamer = t[streamer_username]\n",
    "    while streamer == t[streamer_username]:\n",
    "        streamer = random.choice(streamer_list)\n",
    "        \n",
    "    sample = {user_id: t[user_id], stream_id: '-1', streamer_username: streamer, time_start: t[time_start] , time_stop: t[time_start]}\n",
    "    negatives.append(sample)\n",
    "test.extend(negatives)\n",
    "random.shuffle(test)\n",
    "print(len(test))"
   ]
  },
  {
   "cell_type": "code",
   "execution_count": 50,
   "metadata": {},
   "outputs": [],
   "source": [
    "# user iterations\n",
    "t_user_interactions = defaultdict(list)\n",
    "\n",
    "for t in test:\n",
    "    user = t[user_id]\n",
    "    t_user_interactions[user].append(t[streamer_username])"
   ]
  },
  {
   "cell_type": "code",
   "execution_count": 51,
   "metadata": {},
   "outputs": [],
   "source": [
    "# create list to eval test with \n",
    "test_iWithPrevious = []\n",
    "for t in t_user_interactions:\n",
    "    lastItem = 'dummy'\n",
    "    \n",
    "    for s in t_user_interactions[t]:\n",
    "        test_iWithPrevious.append((t,s,lastItem))\n",
    "        lastItem = s"
   ]
  },
  {
   "cell_type": "code",
   "execution_count": 52,
   "metadata": {},
   "outputs": [
    {
     "name": "stdout",
     "output_type": "stream",
     "text": [
      "68441\n"
     ]
    }
   ],
   "source": [
    "interactionsTestPerUser = defaultdict(set)\n",
    "itemSet = set()\n",
    "for u,i,j in test_iWithPrevious:\n",
    "    interactionsTestPerUser[u].add((i,j))\n",
    "    itemSet.add(i)\n",
    "    itemSet.add(j)\n",
    "print(len(interactionsTestPerUser))"
   ]
  },
  {
   "cell_type": "code",
   "execution_count": 53,
   "metadata": {},
   "outputs": [],
   "source": [
    "def t_AUCu(model, u, N):\n",
    "    win = 0\n",
    "    if N > len(interactionsTestPerUser[u]):\n",
    "        N = len(interactionsTestPerUser[u])\n",
    "        \n",
    "    positive = random.sample(interactionsTestPerUser[u],N)\n",
    "    negative = random.sample(itemSet,N)\n",
    "    \n",
    "    for (i,j),k in zip(positive,negative):\n",
    "        sp = model.predict(u, i, j).numpy()\n",
    "        sn = model.predict(u, k, j).numpy()\n",
    "        if sp > sn:\n",
    "            win += 1\n",
    "            \n",
    "    return win/N"
   ]
  },
  {
   "cell_type": "code",
   "execution_count": 54,
   "metadata": {},
   "outputs": [],
   "source": [
    "def t_AUC(model):\n",
    "    av = []\n",
    "    count = 0\n",
    "    \n",
    "    for u in interactionsTestPerUser:\n",
    "        av.append(t_AUCu(model, u, 1))\n",
    "        \n",
    "        count += 1\n",
    "        if count % 1000 == 0: \n",
    "            print(count)\n",
    "    return sum(av) / len(av)"
   ]
  },
  {
   "cell_type": "code",
   "execution_count": 55,
   "metadata": {},
   "outputs": [
    {
     "name": "stdout",
     "output_type": "stream",
     "text": [
      "1000\n",
      "2000\n",
      "3000\n",
      "4000\n",
      "5000\n",
      "6000\n",
      "7000\n",
      "8000\n",
      "9000\n",
      "10000\n",
      "11000\n",
      "12000\n",
      "13000\n",
      "14000\n",
      "15000\n",
      "16000\n",
      "17000\n",
      "18000\n",
      "19000\n",
      "20000\n",
      "21000\n",
      "22000\n",
      "23000\n",
      "24000\n",
      "25000\n",
      "26000\n",
      "27000\n",
      "28000\n",
      "29000\n",
      "30000\n",
      "31000\n",
      "32000\n",
      "33000\n",
      "34000\n",
      "35000\n",
      "36000\n",
      "37000\n",
      "38000\n",
      "39000\n",
      "40000\n",
      "41000\n",
      "42000\n",
      "43000\n",
      "44000\n",
      "45000\n",
      "46000\n",
      "47000\n",
      "48000\n",
      "49000\n",
      "50000\n",
      "51000\n",
      "52000\n",
      "53000\n",
      "54000\n",
      "55000\n",
      "56000\n",
      "57000\n",
      "58000\n",
      "59000\n",
      "60000\n",
      "61000\n",
      "62000\n",
      "63000\n",
      "64000\n",
      "65000\n",
      "66000\n",
      "67000\n",
      "68000\n",
      "AUC = 0.8619102584707997\n"
     ]
    }
   ],
   "source": [
    "print(\"AUC = \" + str(t_AUC(modelFPMC_a)))"
   ]
  },
  {
   "cell_type": "code",
   "execution_count": null,
   "metadata": {},
   "outputs": [],
   "source": []
  }
 ],
 "metadata": {
  "kernelspec": {
   "display_name": "Python 3",
   "language": "python",
   "name": "python3"
  },
  "language_info": {
   "codemirror_mode": {
    "name": "ipython",
    "version": 3
   },
   "file_extension": ".py",
   "mimetype": "text/x-python",
   "name": "python",
   "nbconvert_exporter": "python",
   "pygments_lexer": "ipython3",
   "version": "3.8.5"
  }
 },
 "nbformat": 4,
 "nbformat_minor": 2
}
